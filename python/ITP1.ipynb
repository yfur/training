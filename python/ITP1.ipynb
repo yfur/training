{
 "cells": [
  {
   "cell_type": "markdown",
   "metadata": {},
   "source": [
    "[AOJ ITP1](http://judge.u-aizu.ac.jp/onlinejudge/finder.jsp?course=ITP1)コンプリート記念。\n",
    "\n",
    "\n",
    "# ITP1_1_A"
   ]
  },
  {
   "cell_type": "code",
   "execution_count": null,
   "metadata": {},
   "outputs": [],
   "source": [
    "print('Hello World')"
   ]
  },
  {
   "cell_type": "markdown",
   "metadata": {},
   "source": [
    "# ITP1_1_B"
   ]
  },
  {
   "cell_type": "code",
   "execution_count": null,
   "metadata": {},
   "outputs": [],
   "source": [
    "print(int(input())**3)"
   ]
  },
  {
   "cell_type": "markdown",
   "metadata": {},
   "source": [
    "# ITP1_1_C"
   ]
  },
  {
   "cell_type": "code",
   "execution_count": null,
   "metadata": {},
   "outputs": [],
   "source": [
    "a, b = map(int, input().split())\n",
    "print(str(a*b)+' '+str(a+a+b+b))"
   ]
  },
  {
   "cell_type": "markdown",
   "metadata": {},
   "source": [
    "# ITP1_1_D"
   ]
  },
  {
   "cell_type": "code",
   "execution_count": null,
   "metadata": {},
   "outputs": [],
   "source": [
    "tmps = int(input())\n",
    "tmpm = tmps//60\n",
    "s = tmps%60\n",
    "h = tmpm//60\n",
    "m = tmpm%60\n",
    "print(str(h)+':'+str(m)+':'+str(s))"
   ]
  },
  {
   "cell_type": "markdown",
   "metadata": {},
   "source": [
    "# ITP1_2_A"
   ]
  },
  {
   "cell_type": "code",
   "execution_count": null,
   "metadata": {},
   "outputs": [],
   "source": [
    "a, b = map(int, input().split())\n",
    "\n",
    "if a < b:\n",
    "    print('a < b')\n",
    "elif a > b:\n",
    "    print('a > b')\n",
    "else:\n",
    "    print('a == b')"
   ]
  },
  {
   "cell_type": "markdown",
   "metadata": {},
   "source": [
    "# ITP1_2_B"
   ]
  },
  {
   "cell_type": "code",
   "execution_count": null,
   "metadata": {},
   "outputs": [],
   "source": [
    "a, b, c = map(int, input().split())\n",
    "\n",
    "if a < b and b < c:\n",
    "    print('Yes')\n",
    "else:\n",
    "    print('No')"
   ]
  },
  {
   "cell_type": "markdown",
   "metadata": {},
   "source": [
    "# ITP1_2_C"
   ]
  },
  {
   "cell_type": "code",
   "execution_count": null,
   "metadata": {},
   "outputs": [],
   "source": [
    "a, b, c = map(int, input().split())\n",
    "\n",
    "x = min(min(a,b),c)\n",
    "z = max(max(a,b),c)\n",
    "y = a+b+c-x-z\n",
    "print(str(x)+' '+str(y)+' '+str(z))"
   ]
  },
  {
   "cell_type": "markdown",
   "metadata": {},
   "source": [
    "# ITP1_2_D"
   ]
  },
  {
   "cell_type": "code",
   "execution_count": null,
   "metadata": {},
   "outputs": [],
   "source": [
    "W, H, x, y, r = map(int, input().split())\n",
    "if x >= r and x <= W-r and y >= r and y <= H-r:\n",
    "    print('Yes')\n",
    "else:\n",
    "    print('No')"
   ]
  },
  {
   "cell_type": "markdown",
   "metadata": {},
   "source": [
    "# ITP1_3_A"
   ]
  },
  {
   "cell_type": "code",
   "execution_count": null,
   "metadata": {},
   "outputs": [],
   "source": [
    "for i in range(1000):\n",
    "    print('Hello World')"
   ]
  },
  {
   "cell_type": "markdown",
   "metadata": {},
   "source": [
    "# ITP1_3_B"
   ]
  },
  {
   "cell_type": "code",
   "execution_count": null,
   "metadata": {},
   "outputs": [],
   "source": [
    "DT = [0]*10000\n",
    "\n",
    "for i in range(10001):\n",
    "    a = int(input())\n",
    "    if a == 0:\n",
    "        LAST = i\n",
    "        break\n",
    "    else:\n",
    "        DT[i] = a\n",
    "\n",
    "for i in range(LAST):\n",
    "    print('Case {}: {}'.format(i+1, DT[i]))"
   ]
  },
  {
   "cell_type": "markdown",
   "metadata": {},
   "source": [
    "# ITP1_3_C"
   ]
  },
  {
   "cell_type": "code",
   "execution_count": null,
   "metadata": {},
   "outputs": [],
   "source": [
    "DT = [0]*3000\n",
    "\n",
    "o1 = [0]*3000\n",
    "o2 = [0]*3000\n",
    "\n",
    "\n",
    "for i in range(3001):\n",
    "    a, b = map(int, input().split())\n",
    "    if a == 0 and b == 0:\n",
    "        LAST = i\n",
    "        break\n",
    "    else:\n",
    "        if a < b:\n",
    "            o1[i] = a\n",
    "            o2[i] = b\n",
    "        else:\n",
    "            o1[i] = b\n",
    "            o2[i] = a\n",
    "\n",
    "for i in range(LAST):\n",
    "    print('{} {}'.format(o1[i], o2[i]))"
   ]
  },
  {
   "cell_type": "markdown",
   "metadata": {},
   "source": [
    "# ITP1_3_D"
   ]
  },
  {
   "cell_type": "code",
   "execution_count": null,
   "metadata": {},
   "outputs": [],
   "source": [
    "a, b, c = map(int, input().split())\n",
    "\n",
    "ans = 0\n",
    "for i in range(a, b+1):\n",
    "    if c % i == 0:\n",
    "        ans += 1\n",
    "\n",
    "print(ans)"
   ]
  },
  {
   "cell_type": "markdown",
   "metadata": {},
   "source": [
    "# ITP1_4_A"
   ]
  },
  {
   "cell_type": "code",
   "execution_count": null,
   "metadata": {},
   "outputs": [],
   "source": [
    "a, b = map(int, input().split())\n",
    "print('{0} {1} {2:.5f}'.format(a//b, a%b, a/b))"
   ]
  },
  {
   "cell_type": "markdown",
   "metadata": {},
   "source": [
    "# ITP1_4_B"
   ]
  },
  {
   "cell_type": "code",
   "execution_count": null,
   "metadata": {},
   "outputs": [],
   "source": [
    "N = float(input())\n",
    "pi = 3.141592653589793238462643383279502884\n",
    "print('{} {}'.format(N*N*pi, 2*N*pi))"
   ]
  },
  {
   "cell_type": "markdown",
   "metadata": {},
   "source": [
    "# ITP1_4_C"
   ]
  },
  {
   "cell_type": "code",
   "execution_count": null,
   "metadata": {},
   "outputs": [],
   "source": [
    "ans = []\n",
    "while True:\n",
    "    A, op, B = map(str, input().split(' '))\n",
    "    if op == '+':\n",
    "        ans.append(int(A)+int(B))\n",
    "    elif op == '-':\n",
    "        ans.append(int(A)-int(B))\n",
    "    elif op == '*':\n",
    "        ans.append(int(A)*int(B))\n",
    "    elif op == '/':\n",
    "        ans.append(int(A)//int(B))\n",
    "    elif op == '?':\n",
    "        break\n",
    "\n",
    "for i in ans:\n",
    "    print(i)"
   ]
  },
  {
   "cell_type": "markdown",
   "metadata": {},
   "source": [
    "# ITP1_4_D"
   ]
  },
  {
   "cell_type": "code",
   "execution_count": null,
   "metadata": {},
   "outputs": [],
   "source": [
    "n = int(input())\n",
    "a = list(map(int, input().split()))\n",
    "\n",
    "ans = [min(a), max(a), sum(a)]\n",
    "print(*ans)"
   ]
  },
  {
   "cell_type": "markdown",
   "metadata": {},
   "source": [
    "# ITP1_5_A"
   ]
  },
  {
   "cell_type": "code",
   "execution_count": null,
   "metadata": {},
   "outputs": [],
   "source": [
    "H = []\n",
    "W = []\n",
    "while True:\n",
    "    h, w = map(int, input().split())\n",
    "    if h == 0 and w == 0:\n",
    "        break\n",
    "    \n",
    "    H.append(h)\n",
    "    W.append(w)\n",
    "    \n",
    "for i in range(len(H)):\n",
    "    tmp = ''\n",
    "    for j in range(W[i]):\n",
    "        tmp += '#'\n",
    "    for j in range(H[i]):\n",
    "        print(tmp)\n",
    "    print('')\n"
   ]
  },
  {
   "cell_type": "markdown",
   "metadata": {},
   "source": [
    "# ITP1_5_B"
   ]
  },
  {
   "cell_type": "code",
   "execution_count": null,
   "metadata": {},
   "outputs": [],
   "source": [
    "H = []\n",
    "W = []\n",
    "while True:\n",
    "    h, w = map(int, input().split())\n",
    "    if h == 0 and w == 0:\n",
    "        break\n",
    "    \n",
    "    H.append(h)\n",
    "    W.append(w)\n",
    "    \n",
    "for i in range(len(H)):\n",
    "    tmp1 = ''\n",
    "    for j in range(W[i]):\n",
    "        tmp1 += '#'\n",
    "    tmp2 = '#'\n",
    "    for j in range(W[i]-2):\n",
    "        tmp2 += '.'\n",
    "    tmp2 += '#'\n",
    "    print(tmp1)\n",
    "    for j in range(H[i]-2):\n",
    "        print(tmp2)\n",
    "    print(tmp1)\n",
    "    print('')\n"
   ]
  },
  {
   "cell_type": "markdown",
   "metadata": {},
   "source": [
    "# ITP1_5_C"
   ]
  },
  {
   "cell_type": "code",
   "execution_count": null,
   "metadata": {},
   "outputs": [],
   "source": [
    "H = []\n",
    "W = []\n",
    "while True:\n",
    "    h, w = map(int, input().split())\n",
    "    if h == 0 and w == 0:\n",
    "        break\n",
    "    \n",
    "    H.append(h)\n",
    "    W.append(w)\n",
    "    \n",
    "for i in range(len(H)):\n",
    "    for j in range(H[i]):\n",
    "        tmp = ''\n",
    "        for k in range(W[i]):\n",
    "            if (j+k)%2 == 0:\n",
    "                tmp += '#'\n",
    "            else:\n",
    "                tmp += '.'\n",
    "        \n",
    "        print(tmp)\n",
    "    \n",
    "    print('')\n"
   ]
  },
  {
   "cell_type": "markdown",
   "metadata": {},
   "source": [
    "# ITP1_5_D\n",
    "なべあつ？"
   ]
  },
  {
   "cell_type": "code",
   "execution_count": null,
   "metadata": {},
   "outputs": [],
   "source": [
    "def call(n):\n",
    "    ans = ''\n",
    "    i = 1\n",
    "    while i <= n:\n",
    "        x = i\n",
    "        if x%3 == 0:\n",
    "            ans += ' {}'.format(i)\n",
    "            i+=1\n",
    "            continue\n",
    "            \n",
    "        while x != 0:\n",
    "            if x%10 == 3:\n",
    "                ans += ' {}'.format(i)\n",
    "                break\n",
    "            \n",
    "            x //= 10\n",
    "            \n",
    "        i += 1\n",
    "        \n",
    "    return ans\n",
    "\n",
    "def main():\n",
    "    n = int(input())\n",
    "    ans = call(n)\n",
    "    print(ans)\n",
    "\n",
    "if __name__ == \"__main__\":\n",
    "    main()"
   ]
  },
  {
   "cell_type": "markdown",
   "metadata": {},
   "source": [
    "# ITP1_6_A"
   ]
  },
  {
   "cell_type": "code",
   "execution_count": null,
   "metadata": {},
   "outputs": [],
   "source": [
    "n = int(input())\n",
    "a = list(map(int, input().split()))\n",
    "\n",
    "ans = [0]*n\n",
    "for i in range(n):\n",
    "    ans[n-1-i] = a[i]\n",
    "    \n",
    "print(*ans)"
   ]
  },
  {
   "cell_type": "markdown",
   "metadata": {},
   "source": [
    "# ITP1_6_B"
   ]
  },
  {
   "cell_type": "code",
   "execution_count": null,
   "metadata": {},
   "outputs": [],
   "source": [
    "n = int(input())\n",
    "cards = [[False]*13 for i in range(4)] # Spade, Hart, Club, Diamond\n",
    "# False: 足りない。True: ある。\n",
    "for i in range(n):\n",
    "    symbol, number = map(str, input().split(' '))\n",
    "    number = int(number)\n",
    "    if symbol == 'S':\n",
    "        cards[0][number-1] = True\n",
    "    elif symbol == 'H':\n",
    "        cards[1][number-1] = True\n",
    "    elif symbol == 'C':\n",
    "        cards[2][number-1] = True\n",
    "    elif symbol == 'D':\n",
    "        cards[3][number-1] = True\n",
    "        \n",
    "for i in range(4):\n",
    "    if i == 0:\n",
    "        symbol = 'S'\n",
    "    elif i == 1:\n",
    "        symbol = 'H'\n",
    "    elif i == 2:\n",
    "        symbol = 'C'\n",
    "    elif i == 3:\n",
    "        symbol = 'D'\n",
    "    for j in range(13):\n",
    "        if cards[i][j] == False:\n",
    "            print(symbol+' '+str(j+1))"
   ]
  },
  {
   "cell_type": "markdown",
   "metadata": {},
   "source": [
    "# ITP1_6_C"
   ]
  },
  {
   "cell_type": "code",
   "execution_count": null,
   "metadata": {},
   "outputs": [],
   "source": [
    "# これだと通らなかった。なぜ？\n",
    "n = int(input())\n",
    "rooms = [[[0]*10 for i in range(3)] for j in range(4)]\n",
    "for i in range(n):\n",
    "    b, f, r, v = map(int, input().split())\n",
    "    rooms[b-1][f-1][r-1] += v\n",
    "\n",
    "for i in range(4):\n",
    "    for j in range(3):\n",
    "        print(*rooms[i][j])\n",
    "\n",
    "    if i < 3:\n",
    "        print('####################')"
   ]
  },
  {
   "cell_type": "code",
   "execution_count": null,
   "metadata": {},
   "outputs": [],
   "source": [
    "n = int(input())\n",
    "rooms = [[[0]*10 for i in range(3)] for j in range(4)]\n",
    "for i in range(n):\n",
    "    b, f, r, v = map(int, input().split())\n",
    "    rooms[b-1][f-1][r-1] += v\n",
    "\n",
    "for i in range(4):\n",
    "    for j in range(3):\n",
    "        txt = ''\n",
    "        for k in range(10):\n",
    "            txt += ' '+str(rooms[i][j][k])\n",
    "        print(txt)\n",
    "        \n",
    "    if i < 3:\n",
    "        print('####################')"
   ]
  },
  {
   "cell_type": "markdown",
   "metadata": {},
   "source": [
    "# ITP1_6_D"
   ]
  },
  {
   "cell_type": "code",
   "execution_count": null,
   "metadata": {},
   "outputs": [],
   "source": [
    "n, m = map(int, input().split())\n",
    "\n",
    "A = [[0]*m for i in range(n)]\n",
    "for i in range(n):\n",
    "    a = list(map(int, input().split(' ')))\n",
    "    for j in range(m):\n",
    "        A[i][j] = a[j]\n",
    "        \n",
    "b = [0]*m\n",
    "for i in range(m):\n",
    "    b[i] = int(input())\n",
    "    \n",
    "c = [0]*n\n",
    "for i in range(n):\n",
    "    for j in range(m):\n",
    "        c[i] += A[i][j]*b[j]\n",
    "        \n",
    "    print(c[i])"
   ]
  },
  {
   "cell_type": "markdown",
   "metadata": {},
   "source": [
    "# ITP1_7_A"
   ]
  },
  {
   "cell_type": "code",
   "execution_count": null,
   "metadata": {},
   "outputs": [],
   "source": [
    "ans = []\n",
    "while True:\n",
    "    m, f, r = map(int, input().split(' '))\n",
    "    if m == -1 and f == -1 and r == -1:\n",
    "        break\n",
    "    elif m == -1 or f == -1:\n",
    "        ans += 'F'\n",
    "    elif m+f >= 80:\n",
    "        ans += 'A'\n",
    "    elif m+f >= 65:\n",
    "        ans += 'B'\n",
    "    elif m+f >= 50:\n",
    "        ans += 'C'\n",
    "    elif m+f >= 30 and r >= 50:\n",
    "        ans += 'C'\n",
    "    elif m+f >= 30:\n",
    "        ans += 'D'\n",
    "    else:\n",
    "        ans += 'F'\n",
    "        \n",
    "for i in ans:\n",
    "    print(i)"
   ]
  },
  {
   "cell_type": "markdown",
   "metadata": {},
   "source": [
    "# ITP1_7_B"
   ]
  },
  {
   "cell_type": "code",
   "execution_count": null,
   "metadata": {},
   "outputs": [],
   "source": [
    "ans = []\n",
    "while True:\n",
    "    n, x = map(int, input().split(' '))\n",
    "    if n == 0 and x == 0:\n",
    "        break\n",
    "    \n",
    "    tmp = 0\n",
    "    for i in range(1,n-1):\n",
    "        for j in range(i+1,n):\n",
    "            for k in range(j+1, n+1):\n",
    "                if i+j+k == x:\n",
    "                    tmp += 1\n",
    "                    \n",
    "    ans.append(tmp)\n",
    "        \n",
    "for i in ans:\n",
    "    print(i)"
   ]
  },
  {
   "cell_type": "markdown",
   "metadata": {},
   "source": [
    "# ITP1_7_C"
   ]
  },
  {
   "cell_type": "code",
   "execution_count": null,
   "metadata": {},
   "outputs": [],
   "source": [
    "n, m = map(int, input().split())\n",
    "\n",
    "ans = [[0]*(m+1) for i in range(n+1)]\n",
    "for i in range(n):\n",
    "    a = list(map(int, input().split(' ')))\n",
    "    for j in range(m):\n",
    "        ans[i][j] = a[j]\n",
    "        \n",
    "for i in range(n):\n",
    "    tmp = 0\n",
    "    for j in range(m):\n",
    "        tmp += ans[i][j]\n",
    "    ans[i][m] = tmp\n",
    "    \n",
    "for j in range(m+1):\n",
    "    tmp = 0\n",
    "    for i in range(n):\n",
    "        tmp += ans[i][j]\n",
    "    ans[n][j] = tmp\n",
    "\n",
    "for i in range(n+1):\n",
    "    print(*ans[i])"
   ]
  },
  {
   "cell_type": "markdown",
   "metadata": {},
   "source": [
    "# ITP1_7_D"
   ]
  },
  {
   "cell_type": "code",
   "execution_count": null,
   "metadata": {},
   "outputs": [],
   "source": [
    "n, m, l = map(int, input().split())\n",
    "\n",
    "A = [[0]*m for i in range(n)]\n",
    "for i in range(n):\n",
    "    a = list(map(int, input().split(' ')))\n",
    "    for j in range(m):\n",
    "        A[i][j] = a[j]\n",
    "\n",
    "B = [[0]*l for i in range(m)]\n",
    "for i in range(m):\n",
    "    b = list(map(int, input().split(' ')))\n",
    "    for j in range(l):\n",
    "        B[i][j] = b[j]\n",
    "        \n",
    "C = [[0]*l for i in range(n)]\n",
    "for i in range(n):\n",
    "    for j in range(l):\n",
    "        for k in range(m):\n",
    "            C[i][j] += A[i][k]*B[k][j]\n",
    "        \n",
    "for i in range(n):\n",
    "    print(*C[i])"
   ]
  },
  {
   "cell_type": "markdown",
   "metadata": {},
   "source": [
    "# ITP1_8_A"
   ]
  },
  {
   "cell_type": "code",
   "execution_count": null,
   "metadata": {},
   "outputs": [],
   "source": [
    "S = list(input())\n",
    "for i in range(len(S)):\n",
    "    if S[i].isupper():\n",
    "        S[i] = S[i].lower()\n",
    "    elif S[i].islower():\n",
    "        S[i] = S[i].upper()\n",
    "        \n",
    "print(''.join(S))"
   ]
  },
  {
   "cell_type": "markdown",
   "metadata": {},
   "source": [
    "# ITP1_8_B"
   ]
  },
  {
   "cell_type": "code",
   "execution_count": null,
   "metadata": {},
   "outputs": [],
   "source": [
    "ans = []\n",
    "while True:\n",
    "    num = input()\n",
    "    if num == '0':\n",
    "        break\n",
    "    \n",
    "    tmp = 0\n",
    "    for i in range(len(num)):\n",
    "        tmp += int(num[i])\n",
    "    \n",
    "    ans.append(tmp)\n",
    "    \n",
    "for i in ans:\n",
    "    print(i)"
   ]
  },
  {
   "cell_type": "markdown",
   "metadata": {},
   "source": [
    "# ITP1_8_C\n",
    "\n",
    "このコードはJupyter notebook上ではできない。"
   ]
  },
  {
   "cell_type": "code",
   "execution_count": null,
   "metadata": {},
   "outputs": [],
   "source": [
    "import sys\n",
    "\n",
    "ans = [0]*26\n",
    "\n",
    "S = sys.stdin.read() # この部分はJupyter notebookではできない。\n",
    "for i in range(len(S)):\n",
    "    if ord(S[i])-65 >= 0 and ord(S[i])-91 < 0:\n",
    "        ans[ord(S[i])-65] += 1\n",
    "    elif ord(S[i])-97 >= 0 and ord(S[i])-123 < 0:\n",
    "        ans[ord(S[i])-97] += 1\n",
    "\n",
    "for i in range(26):\n",
    "    print(chr(i+97)+' : '+str(ans[i]))"
   ]
  },
  {
   "cell_type": "markdown",
   "metadata": {},
   "source": [
    "このコードもJupyter notebook上ではできない。"
   ]
  },
  {
   "cell_type": "code",
   "execution_count": null,
   "metadata": {},
   "outputs": [],
   "source": [
    "ans = [0]*26\n",
    "\n",
    "S = ''\n",
    "try:\n",
    "    while True:\n",
    "        S += input()\n",
    "except EOFError:\n",
    "    pass\n",
    "\n",
    "for i in range(len(S)):\n",
    "    if ord(S[i])-65 >= 0 and ord(S[i])-91 < 0:\n",
    "        ans[ord(S[i])-65] += 1\n",
    "    elif ord(S[i])-97 >= 0 and ord(S[i])-123 < 0:\n",
    "        ans[ord(S[i])-97] += 1\n",
    "\n",
    "for i in range(26):\n",
    "    print(chr(i+97)+' : '+str(ans[i]))\n"
   ]
  },
  {
   "cell_type": "markdown",
   "metadata": {},
   "source": [
    "# ITP1_8_D"
   ]
  },
  {
   "cell_type": "code",
   "execution_count": null,
   "metadata": {},
   "outputs": [],
   "source": [
    "s = input()\n",
    "p = input()\n",
    "\n",
    "lp = len(p)\n",
    "ss = s*2\n",
    "ans = 'No'\n",
    "for i in range(len(s)):\n",
    "    if ss[i:i+lp] == p[0:lp]:\n",
    "        ans = 'Yes'\n",
    "        break\n",
    "        \n",
    "print(ans)"
   ]
  },
  {
   "cell_type": "markdown",
   "metadata": {},
   "source": [
    "# ITP1_9_A\n",
    "\n",
    "このコードもJupyter notebook上ではできない。"
   ]
  },
  {
   "cell_type": "code",
   "execution_count": null,
   "metadata": {},
   "outputs": [],
   "source": [
    "W = input()\n",
    "T = []\n",
    "try:\n",
    "    while True:\n",
    "        tmp = input()\n",
    "        if tmp == 'END_OF_TEXT':\n",
    "            break\n",
    "        else:\n",
    "            T.extend(list(map(str, tmp.split(' '))))\n",
    "except EOFError:\n",
    "    pass\n",
    "\n",
    "ans = 0\n",
    "for elem in T:\n",
    "    if elem.lower() == W:\n",
    "        ans += 1\n",
    "\n",
    "print(ans)\n"
   ]
  },
  {
   "cell_type": "markdown",
   "metadata": {},
   "source": [
    "# ITP1_9_B"
   ]
  },
  {
   "cell_type": "code",
   "execution_count": 14,
   "metadata": {},
   "outputs": [
    {
     "name": "stdin",
     "output_type": "stream",
     "text": [
      " aabc\n",
      " 3\n",
      " 1\n",
      " 2\n",
      " 1\n",
      " vwxyz\n",
      " 2\n",
      " 3\n",
      " 4\n",
      " -\n"
     ]
    },
    {
     "name": "stdout",
     "output_type": "stream",
     "text": [
      "['aabc', 'xyzvw']\n"
     ]
    }
   ],
   "source": [
    "ans = []\n",
    "while True:\n",
    "    cards = input()\n",
    "    if cards == '-':\n",
    "        break\n",
    "        \n",
    "    m = int(input())\n",
    "    cnt = 0\n",
    "    for i in range(m):\n",
    "        cnt += int(input())\n",
    "\n",
    "    cnt %= len(cards)\n",
    "    tmp = ''\n",
    "    for i in range(len(cards) - cnt):\n",
    "        tmp += cards[i+cnt]\n",
    "    for i in range(cnt):\n",
    "        tmp += cards[i]\n",
    "        \n",
    "    ans.append(tmp)\n",
    "\n",
    "for elem in ans:\n",
    "    print(elem)"
   ]
  },
  {
   "cell_type": "markdown",
   "metadata": {},
   "source": [
    "# ITP1_9_C"
   ]
  },
  {
   "cell_type": "code",
   "execution_count": 18,
   "metadata": {},
   "outputs": [
    {
     "name": "stdin",
     "output_type": "stream",
     "text": [
      " 3\n",
      " cat dog\n",
      " fish fish\n",
      " lion tiger\n"
     ]
    }
   ],
   "source": [
    "pt = 0\n",
    "ph = 0\n",
    "n = int(input())\n",
    "for i in range(n):\n",
    "    ct, ch = map(str, input().split())\n",
    "    lct = len(ct)\n",
    "    lch = len(ch)\n",
    "    m = 0\n",
    "    while True:\n",
    "        if m+1 > lct and m+1 > lch:\n",
    "            pt += 1\n",
    "            ph += 1\n",
    "            break\n",
    "        elif m+1 > lct:\n",
    "            ph += 3\n",
    "            break\n",
    "        elif m+1 > lch:\n",
    "            pt += 3\n",
    "            break\n",
    "        elif ord(ct[m]) > ord(ch[m]):\n",
    "            pt += 3\n",
    "            break\n",
    "        elif ord(ct[m]) < ord(ch[m]):\n",
    "            ph += 3\n",
    "            break\n",
    "        else:\n",
    "            m += 1"
   ]
  },
  {
   "cell_type": "markdown",
   "metadata": {},
   "source": [
    "# ITP1_9_D"
   ]
  },
  {
   "cell_type": "code",
   "execution_count": 25,
   "metadata": {},
   "outputs": [
    {
     "name": "stdin",
     "output_type": "stream",
     "text": [
      " xyz\n",
      " 3\n",
      " print 0 2\n",
      " replace 0 2 abc\n",
      " print 0 2\n"
     ]
    },
    {
     "name": "stdout",
     "output_type": "stream",
     "text": [
      "xyz\n",
      "abc\n"
     ]
    }
   ],
   "source": [
    "Stmp = input()\n",
    "S = []\n",
    "for elem in Stmp:\n",
    "    S.append(elem)\n",
    "    \n",
    "ans = []\n",
    "q = int(input())\n",
    "for i in range(q):\n",
    "    order = list(map(str, input().split()))\n",
    "    if order[0] == 'print':\n",
    "        a = int(order[1])\n",
    "        b = int(order[2])\n",
    "        tmp = ''\n",
    "        for i in range(a, b+1):\n",
    "            tmp += S[i]\n",
    "            \n",
    "        ans.append(tmp)\n",
    "            \n",
    "    elif order[0] == 'reverse':\n",
    "        a = int(order[1])\n",
    "        b = int(order[2])\n",
    "        tmp = S[a:b+1]\n",
    "        for i in range(a, b+1):\n",
    "            S[i] = tmp[b-i]\n",
    "            \n",
    "    elif order[0] == 'replace':\n",
    "        a = int(order[1])\n",
    "        b = int(order[2])\n",
    "        p = order[3]\n",
    "        for i in range(a, b+1):\n",
    "            S[i] = p[i-a]\n",
    "        \n",
    "for elem in ans:\n",
    "    print(elem)"
   ]
  },
  {
   "cell_type": "markdown",
   "metadata": {},
   "source": [
    "# ITP1_10_A"
   ]
  },
  {
   "cell_type": "code",
   "execution_count": 26,
   "metadata": {},
   "outputs": [
    {
     "name": "stdin",
     "output_type": "stream",
     "text": [
      " 0 0 1 1\n"
     ]
    },
    {
     "name": "stdout",
     "output_type": "stream",
     "text": [
      "1.4142135623730951\n"
     ]
    }
   ],
   "source": [
    "import math\n",
    "\n",
    "x1, y1, x2, y2 = map(float, input().split())\n",
    "print(math.sqrt((x2-x1)**2+(y2-y1)**2))"
   ]
  },
  {
   "cell_type": "markdown",
   "metadata": {},
   "source": [
    "mathライブラリを使わなくてもよい。"
   ]
  },
  {
   "cell_type": "code",
   "execution_count": 35,
   "metadata": {},
   "outputs": [
    {
     "name": "stdin",
     "output_type": "stream",
     "text": [
      " 0 0 1 1\n"
     ]
    },
    {
     "name": "stdout",
     "output_type": "stream",
     "text": [
      "1.4142135623730951\n"
     ]
    }
   ],
   "source": [
    "x1, y1, x2, y2 = map(float, input().split())\n",
    "print(((x2-x1)**2+(y2-y1)**2)**(1/2))"
   ]
  },
  {
   "cell_type": "markdown",
   "metadata": {},
   "source": [
    "# ITP1_10_B"
   ]
  },
  {
   "cell_type": "code",
   "execution_count": 32,
   "metadata": {},
   "outputs": [
    {
     "name": "stdin",
     "output_type": "stream",
     "text": [
      " 4 3 90\n"
     ]
    },
    {
     "name": "stdout",
     "output_type": "stream",
     "text": [
      "6.0\n",
      "12.0\n",
      "3.0\n"
     ]
    }
   ],
   "source": [
    "import math\n",
    "\n",
    "a, b, C = map(float, input().split())\n",
    "C = C/180*math.pi\n",
    "\n",
    "S = a*b*math.sin(C)/2\n",
    "L = a + b + math.sqrt(a**2 + b**2 - 2*a*b*math.cos(C))\n",
    "h = b*math.sin(C)\n",
    "print(S)\n",
    "print(L)\n",
    "print(h)"
   ]
  },
  {
   "cell_type": "markdown",
   "metadata": {},
   "source": [
    "# ITP1_10_C"
   ]
  },
  {
   "cell_type": "code",
   "execution_count": 33,
   "metadata": {},
   "outputs": [
    {
     "name": "stdin",
     "output_type": "stream",
     "text": [
      " 5\n",
      " 70 80 100 90 20\n",
      " 3\n",
      " 80 80 80\n",
      " 0\n"
     ]
    },
    {
     "name": "stdout",
     "output_type": "stream",
     "text": [
      "27.85677655436824\n",
      "0.0\n"
     ]
    }
   ],
   "source": [
    "import math\n",
    "\n",
    "ans = []\n",
    "while True:\n",
    "    n = int(input())\n",
    "    if n == 0:\n",
    "        break\n",
    "    \n",
    "    s = list(map(float, input().split()))\n",
    "\n",
    "    m = sum(s)/len(s)\n",
    "    v = 0\n",
    "    for i in range(n):\n",
    "        v += (s[i] - m)**2\n",
    "\n",
    "    v /= n\n",
    "    sd = math.sqrt(v)\n",
    "    ans.append(sd)\n",
    "\n",
    "for elem in ans:\n",
    "    print(elem)"
   ]
  },
  {
   "cell_type": "markdown",
   "metadata": {},
   "source": [
    "# ITP1_10_D"
   ]
  },
  {
   "cell_type": "code",
   "execution_count": 39,
   "metadata": {},
   "outputs": [
    {
     "name": "stdin",
     "output_type": "stream",
     "text": [
      " 3\n",
      " 1 2 3\n",
      " 2 0 4\n"
     ]
    },
    {
     "name": "stdout",
     "output_type": "stream",
     "text": [
      "4.0\n",
      "2.449489742783178\n",
      "2.154434690031884\n",
      "2.0\n"
     ]
    }
   ],
   "source": [
    "import math\n",
    "\n",
    "n = int(input())\n",
    "x = list(map(float, input().split()))\n",
    "y = list(map(float, input().split()))\n",
    "\n",
    "# p=1: マンハッタン距離\n",
    "D = 0\n",
    "for i in range(n):\n",
    "    D += abs(x[i] - y[i])\n",
    "    \n",
    "print(D)\n",
    "\n",
    "# p=2: ユークリッド距離\n",
    "D2 = 0\n",
    "for i in range(n):\n",
    "    D2 += (x[i] - y[i])**2\n",
    "    \n",
    "D = D2**(1/2)    \n",
    "print(D)\n",
    "\n",
    "# p=3\n",
    "D3 = 0\n",
    "for i in range(n):\n",
    "    D3 += (abs(x[i] - y[i]))**3\n",
    "    \n",
    "D = D3**(1/3)\n",
    "print(D)\n",
    "\n",
    "# p=infty: チェビシェフ距離\n",
    "D = 0\n",
    "for i in range(n):\n",
    "    D = max(D, abs(x[i] - y[i]))\n",
    "    \n",
    "print(D)"
   ]
  },
  {
   "cell_type": "markdown",
   "metadata": {},
   "source": [
    "# ITP1_11_A"
   ]
  },
  {
   "cell_type": "code",
   "execution_count": 44,
   "metadata": {},
   "outputs": [
    {
     "name": "stdin",
     "output_type": "stream",
     "text": [
      " 1 2 3 4 5 6\n",
      " 3\n",
      " 6 5\n",
      " 1 3\n",
      " 3 2\n"
     ]
    },
    {
     "name": "stdout",
     "output_type": "stream",
     "text": [
      "3\n",
      "5\n",
      "6\n"
     ]
    }
   ],
   "source": [
    "import sys\n",
    "\n",
    "class Dice:\n",
    "    def __init__(self, t, s, e, w, n, b):\n",
    "        self._t = t\n",
    "        self._s = s\n",
    "        self._e = e\n",
    "        self._w = w\n",
    "        self._n = n\n",
    "        self._b = b\n",
    "\n",
    "    def roll(self, d):\n",
    "        t = self._t\n",
    "        b = self._b\n",
    "        n = self._n\n",
    "        e = self._e\n",
    "        s = self._s\n",
    "        w = self._w\n",
    "        if d == 'N':\n",
    "            self._t = s\n",
    "            self._n = t\n",
    "            self._b = n\n",
    "            self._s = b\n",
    "        elif d == 'E':\n",
    "            self._t = w\n",
    "            self._e = t\n",
    "            self._b = e\n",
    "            self._w = b\n",
    "        elif d == 'S':\n",
    "            self._t = n\n",
    "            self._s = t\n",
    "            self._b = s\n",
    "            self._n = b\n",
    "        elif d == 'W':\n",
    "            self._t = e\n",
    "            self._w = t\n",
    "            self._b = w\n",
    "            self._e = b\n",
    "        else:\n",
    "            print(\"'N', 'E', 'S', 'W'以外の入力です。\")\n",
    "            sys.exit()\n",
    "\n",
    "    def top(self):\n",
    "        return self._t\n",
    "    \n",
    "\n",
    "t, s, e, w, n, b = map(int, input().split())\n",
    "dice = Dice(t, s, e, w, n, b)\n",
    "R = input()\n",
    "for elem in R:\n",
    "    dice.roll(elem)\n",
    "\n",
    "print(dice.top())"
   ]
  },
  {
   "cell_type": "markdown",
   "metadata": {},
   "source": [
    "# ITP1_11_B"
   ]
  },
  {
   "cell_type": "code",
   "execution_count": 44,
   "metadata": {},
   "outputs": [
    {
     "name": "stdin",
     "output_type": "stream",
     "text": [
      " 1 2 3 4 5 6\n",
      " 3\n",
      " 6 5\n",
      " 1 3\n",
      " 3 2\n"
     ]
    },
    {
     "name": "stdout",
     "output_type": "stream",
     "text": [
      "3\n",
      "5\n",
      "6\n"
     ]
    }
   ],
   "source": [
    "import sys\n",
    "\n",
    "class Dice:\n",
    "    def __init__(self, t, s, e, w, n, b):\n",
    "        self._t = t\n",
    "        self._s = s\n",
    "        self._e = e\n",
    "        self._w = w\n",
    "        self._n = n\n",
    "        self._b = b\n",
    "\n",
    "    def roll(self, d):\n",
    "        t = self._t\n",
    "        b = self._b\n",
    "        n = self._n\n",
    "        e = self._e\n",
    "        s = self._s\n",
    "        w = self._w\n",
    "        if d == 'N':\n",
    "            self._t = s\n",
    "            self._n = t\n",
    "            self._b = n\n",
    "            self._s = b\n",
    "        elif d == 'E':\n",
    "            self._t = w\n",
    "            self._e = t\n",
    "            self._b = e\n",
    "            self._w = b\n",
    "        elif d == 'S':\n",
    "            self._t = n\n",
    "            self._s = t\n",
    "            self._b = s\n",
    "            self._n = b\n",
    "        elif d == 'W':\n",
    "            self._t = e\n",
    "            self._w = t\n",
    "            self._b = w\n",
    "            self._e = b\n",
    "        else:\n",
    "            print(\"'N', 'E', 'S', 'W'以外の入力です。\")\n",
    "            sys.exit()\n",
    "\n",
    "    def top(self):\n",
    "        return self._t\n",
    "    \n",
    "    def south(self):\n",
    "        return self._s\n",
    "    \n",
    "    def east(self):\n",
    "        return self._e\n",
    "    \n",
    "    def west(self):\n",
    "        return self._w\n",
    "    \n",
    "    def north(self):\n",
    "        return self._n\n",
    "    \n",
    "    def bottom(self):\n",
    "        return self._b\n",
    "    \n",
    "\n",
    "t, s, e, w, n, b = map(int, input().split())\n",
    "dice = Dice(t, s, e, w, n, b)\n",
    "q = int(input())\n",
    "ans = [0]*q\n",
    "for i in range(q):\n",
    "    t, s = map(int, input().split())\n",
    "    if dice.east() == s or dice.west() == s:\n",
    "        dice.roll('E')\n",
    "    while dice.south() != s:\n",
    "        dice.roll('N')\n",
    "    while dice.top() != t:\n",
    "        dice.roll('E')\n",
    "        \n",
    "    ans[i] = dice.east()\n",
    "\n",
    "for elem in ans:\n",
    "    print(elem)"
   ]
  },
  {
   "cell_type": "markdown",
   "metadata": {},
   "source": [
    "# ITP1_11_C"
   ]
  },
  {
   "cell_type": "code",
   "execution_count": 9,
   "metadata": {},
   "outputs": [
    {
     "name": "stdin",
     "output_type": "stream",
     "text": [
      " 1 2 3 4 5 6\n",
      " 1 2 3 4 5 7\n"
     ]
    },
    {
     "name": "stdout",
     "output_type": "stream",
     "text": [
      "No\n"
     ]
    }
   ],
   "source": [
    "import sys\n",
    "\n",
    "class Dice:\n",
    "    def __init__(self, t, s, e, w, n, b):\n",
    "        self._t = t\n",
    "        self._s = s\n",
    "        self._e = e\n",
    "        self._w = w\n",
    "        self._n = n\n",
    "        self._b = b\n",
    "\n",
    "    def roll(self, d):\n",
    "        t = self._t\n",
    "        b = self._b\n",
    "        n = self._n\n",
    "        e = self._e\n",
    "        s = self._s\n",
    "        w = self._w\n",
    "        if d == 'N':\n",
    "            self._t = s\n",
    "            self._n = t\n",
    "            self._b = n\n",
    "            self._s = b\n",
    "        elif d == 'E':\n",
    "            self._t = w\n",
    "            self._e = t\n",
    "            self._b = e\n",
    "            self._w = b\n",
    "        elif d == 'S':\n",
    "            self._t = n\n",
    "            self._s = t\n",
    "            self._b = s\n",
    "            self._n = b\n",
    "        elif d == 'W':\n",
    "            self._t = e\n",
    "            self._w = t\n",
    "            self._b = w\n",
    "            self._e = b\n",
    "        else:\n",
    "            print(\"'N', 'E', 'S', 'W'以外の入力です。\")\n",
    "            sys.exit()\n",
    "\n",
    "    def top(self):\n",
    "        return self._t\n",
    "    \n",
    "    def south(self):\n",
    "        return self._s\n",
    "    \n",
    "    def east(self):\n",
    "        return self._e\n",
    "    \n",
    "    def west(self):\n",
    "        return self._w\n",
    "    \n",
    "    def north(self):\n",
    "        return self._n\n",
    "    \n",
    "    def bottom(self):\n",
    "        return self._b\n",
    "    \n",
    "    def print_tsewnb(self):\n",
    "        print(self._t, self._s, self._e, self._w, self._n, self._b)\n",
    "        return True\n",
    "    \n",
    "    def tsmatch(self, t, s):\n",
    "        if self._s == s or self._s == s:\n",
    "            Dice.roll(self, 'E')\n",
    "        for i in range(4):\n",
    "            Dice.roll(self, 'N')\n",
    "            if self._s == s:\n",
    "                break        \n",
    "            \n",
    "        for i in range(4):\n",
    "            Dice.roll(self, 'E')\n",
    "            if self._t == t:\n",
    "                break  \n",
    "    \n",
    "    def match(self, dice):\n",
    "        if self._t == dice.top() and self._s == dice.south() and self._e == dice.east() and self._w == dice.west() and self._n == dice.north() and self._b == dice.bottom():\n",
    "            return True\n",
    "        else:\n",
    "            return False     \n",
    "\n",
    "t, s, e, w, n, b = map(int, input().split())\n",
    "dice1 = Dice(t, s, e, w, n, b)\n",
    "\n",
    "ans = 'No'\n",
    "t, s, e, w, n, b = map(int, input().split())\n",
    "dice2 = Dice(t, s, e, w, n, b)\n",
    "\n",
    "for i in range(4):\n",
    "    dice2.roll('E')\n",
    "    if dice1.match(dice2):\n",
    "        ans = 'Yes'\n",
    "\n",
    "dice2 = Dice(t, s, e, w, n, b)\n",
    "dice2.roll('N')\n",
    "for i in range(4):\n",
    "    dice2.roll('E')\n",
    "    if dice1.match(dice2):\n",
    "        ans = 'Yes'\n",
    "\n",
    "dice2 = Dice(t, s, e, w, n, b)\n",
    "dice2.roll('N')\n",
    "dice2.roll('N')\n",
    "for i in range(4):\n",
    "    dice2.roll('E')\n",
    "    if dice1.match(dice2):\n",
    "        ans = 'Yes'\n",
    "\n",
    "dice2 = Dice(t, s, e, w, n, b)\n",
    "dice2.roll('N')\n",
    "dice2.roll('N')\n",
    "dice2.roll('N')\n",
    "for i in range(4):\n",
    "    dice2.roll('E')\n",
    "    if dice1.match(dice2):\n",
    "        ans = 'Yes'\n",
    "\n",
    "dice2 = Dice(t, s, e, w, n, b)\n",
    "dice2.roll('E')\n",
    "dice2.roll('N')\n",
    "for i in range(4):\n",
    "    dice2.roll('E')\n",
    "    if dice1.match(dice2):\n",
    "        ans = 'Yes'\n",
    "\n",
    "dice2 = Dice(t, s, e, w, n, b)\n",
    "dice2.roll('W')\n",
    "dice2.roll('N')\n",
    "for i in range(4):\n",
    "    dice2.roll('E')\n",
    "    if dice1.match(dice2):\n",
    "        ans = 'Yes'\n",
    "        \n",
    "print(ans)"
   ]
  },
  {
   "cell_type": "markdown",
   "metadata": {},
   "source": [
    "# ITP1_11_D"
   ]
  },
  {
   "cell_type": "code",
   "execution_count": 11,
   "metadata": {},
   "outputs": [
    {
     "name": "stdin",
     "output_type": "stream",
     "text": [
      " 2\n",
      " 1 2 3 4 5 6\n",
      " 1 2 3 4 5 3\n"
     ]
    },
    {
     "name": "stdout",
     "output_type": "stream",
     "text": [
      "1\n",
      "Yes\n"
     ]
    }
   ],
   "source": [
    "import sys\n",
    "\n",
    "class Dice:\n",
    "    def __init__(self, t, s, e, w, n, b):\n",
    "        self._t = t\n",
    "        self._s = s\n",
    "        self._e = e\n",
    "        self._w = w\n",
    "        self._n = n\n",
    "        self._b = b\n",
    "        self._it = t\n",
    "        self._is = s\n",
    "        self._ie = e\n",
    "        self._iw = w\n",
    "        self._in = n\n",
    "        self._ib = b\n",
    "        \n",
    "    def initialize(self):\n",
    "        self._t = self._it\n",
    "        self._s = self._is\n",
    "        self._e = self._ie\n",
    "        self._w = self._iw\n",
    "        self._n = self._in\n",
    "        self._b = self._ib\n",
    "\n",
    "    def roll(self, d):\n",
    "        t = self._t\n",
    "        b = self._b\n",
    "        n = self._n\n",
    "        e = self._e\n",
    "        s = self._s\n",
    "        w = self._w\n",
    "        if d == 'N':\n",
    "            self._t = s\n",
    "            self._n = t\n",
    "            self._b = n\n",
    "            self._s = b\n",
    "        elif d == 'E':\n",
    "            self._t = w\n",
    "            self._e = t\n",
    "            self._b = e\n",
    "            self._w = b\n",
    "        elif d == 'S':\n",
    "            self._t = n\n",
    "            self._s = t\n",
    "            self._b = s\n",
    "            self._n = b\n",
    "        elif d == 'W':\n",
    "            self._t = e\n",
    "            self._w = t\n",
    "            self._b = w\n",
    "            self._e = b\n",
    "        else:\n",
    "            print(\"'N', 'E', 'S', 'W'以外の入力です。\")\n",
    "            sys.exit()\n",
    "\n",
    "    def top(self):\n",
    "        return self._t\n",
    "    \n",
    "    def south(self):\n",
    "        return self._s\n",
    "    \n",
    "    def east(self):\n",
    "        return self._e\n",
    "    \n",
    "    def west(self):\n",
    "        return self._w\n",
    "    \n",
    "    def north(self):\n",
    "        return self._n\n",
    "    \n",
    "    def bottom(self):\n",
    "        return self._b\n",
    "    \n",
    "    def print_tsewnb(self):\n",
    "        print(self._t, self._s, self._e, self._w, self._n, self._b)\n",
    "        return True\n",
    "    \n",
    "    def tsmatch(self, t, s):\n",
    "        if self._s == s or self._s == s:\n",
    "            Dice.roll(self, 'E')\n",
    "        for i in range(4):\n",
    "            Dice.roll(self, 'N')\n",
    "            if self._s == s:\n",
    "                break        \n",
    "            \n",
    "        for i in range(4):\n",
    "            Dice.roll(self, 'E')\n",
    "            if self._t == t:\n",
    "                break  \n",
    "    \n",
    "    def match(self, dice):\n",
    "        if self._t == dice.top() and self._s == dice.south() and self._e == dice.east() and self._w == dice.west() and self._n == dice.north() and self._b == dice.bottom():\n",
    "            return True\n",
    "        else:\n",
    "            return False     \n",
    "\n",
    "    def identical(self, dice):\n",
    "        t = self.top()\n",
    "        s = self.south()\n",
    "        e = self.east()\n",
    "        w = self.west()\n",
    "        n = self.north()\n",
    "        b = self.bottom()\n",
    "        dice.initialize()\n",
    "        for i in range(4):\n",
    "            dice.roll('E')\n",
    "            if self.match(dice):\n",
    "                return True\n",
    "\n",
    "        dice.initialize()\n",
    "        dice.roll('N')\n",
    "        for i in range(4):\n",
    "            dice.roll('E')\n",
    "            if self.match(dice):\n",
    "                return True\n",
    "\n",
    "        dice.initialize()\n",
    "        dice.roll('N')\n",
    "        dice.roll('N')\n",
    "        for i in range(4):\n",
    "            dice.roll('E')\n",
    "            if self.match(dice):\n",
    "                return True\n",
    "\n",
    "        dice.initialize()\n",
    "        dice.roll('N')\n",
    "        dice.roll('N')\n",
    "        dice.roll('N')\n",
    "        for i in range(4):\n",
    "            dice.roll('E')\n",
    "            if self.match(dice):\n",
    "                return True\n",
    "\n",
    "        dice.initialize()\n",
    "        dice.roll('E')\n",
    "        dice.roll('N')\n",
    "        for i in range(4):\n",
    "            dice.roll('E')\n",
    "            if self.match(dice):\n",
    "                return True\n",
    "\n",
    "        dice.initialize()\n",
    "        dice.roll('W')\n",
    "        dice.roll('N')\n",
    "        for i in range(4):\n",
    "            dice.roll('E')\n",
    "            if self.match(dice):\n",
    "                return True\n",
    "        \n",
    "        return False\n",
    "        \n",
    "\n",
    "def main():\n",
    "    N = int(input())\n",
    "    DL = []\n",
    "    for i in range(N):\n",
    "        t, s, e, w, n, b = map(int, input().split())\n",
    "        DL.append(Dice(t, s, e, w, n, b))\n",
    "\n",
    "    ans = 'Yes'\n",
    "    for i in range(N):\n",
    "        test = 1\n",
    "        for j in range(i+1, N):\n",
    "            if DL[i].identical(DL[j]) is True:\n",
    "                ans = 'No'\n",
    "\n",
    "    print(ans)\n",
    "\n",
    "if __name__ == \"__main__\":\n",
    "    main()"
   ]
  }
 ],
 "metadata": {
  "kernelspec": {
   "display_name": "Python [default]",
   "language": "python",
   "name": "python3"
  },
  "language_info": {
   "codemirror_mode": {
    "name": "ipython",
    "version": 3
   },
   "file_extension": ".py",
   "mimetype": "text/x-python",
   "name": "python",
   "nbconvert_exporter": "python",
   "pygments_lexer": "ipython3",
   "version": "3.5.6"
  }
 },
 "nbformat": 4,
 "nbformat_minor": 2
}
